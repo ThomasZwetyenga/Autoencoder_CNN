{
  "nbformat": 4,
  "nbformat_minor": 0,
  "metadata": {
    "accelerator": "GPU",
    "colab": {
      "name": "final3_40epoch.ipynb",
      "provenance": [],
      "collapsed_sections": []
    },
    "kernelspec": {
      "display_name": "Python 3",
      "language": "python",
      "name": "python3"
    },
    "language_info": {
      "codemirror_mode": {
        "name": "ipython",
        "version": 3
      },
      "file_extension": ".py",
      "mimetype": "text/x-python",
      "name": "python",
      "nbconvert_exporter": "python",
      "pygments_lexer": "ipython3",
      "version": "3.6.8"
    }
  },
  "cells": [
    {
      "cell_type": "code",
      "metadata": {
        "colab_type": "code",
        "id": "rVX-b4FajPA0",
        "colab": {}
      },
      "source": [
        "from keras.datasets import cifar10\n",
        "\n",
        "from keras.layers import Input\n",
        "from keras.layers import Conv2D\n",
        "from keras.layers import MaxPooling2D\n",
        "from keras.layers import Flatten\n",
        "from keras.layers import UpSampling2D\n",
        "from keras.layers import Dense\n",
        "from keras.layers import Dropout\n",
        "\n",
        "from keras.models import Model\n",
        "\n",
        "from keras.callbacks import EarlyStopping\n",
        "from keras.callbacks import ModelCheckpoint\n",
        "\n",
        "from keras.utils import to_categorical\n",
        "\n",
        "from keras.preprocessing.image import ImageDataGenerator\n",
        "\n",
        "from sklearn.model_selection import train_test_split\n",
        "from sklearn.metrics import confusion_matrix\n",
        "from sklearn.metrics import classification_report\n",
        "\n",
        "import matplotlib.pyplot as plt\n",
        "\n",
        "import numpy as np"
      ],
      "execution_count": 0,
      "outputs": []
    },
    {
      "cell_type": "markdown",
      "metadata": {
        "colab_type": "text",
        "id": "JGZTvWdZPHJ6"
      },
      "source": [
        "# Data Preprocessing"
      ]
    },
    {
      "cell_type": "code",
      "metadata": {
        "colab_type": "code",
        "id": "elWH3vMOjPB2",
        "colab": {}
      },
      "source": [
        "#data load and separation\n",
        "(x_train, y_train), (x_test, y_test) = cifar10.load_data()\n",
        "\n",
        "#load_data automatically does 80/20 but needs 50/50\n",
        "X = np.vstack((x_train,x_test))\n",
        "y = np.vstack((y_train,y_test))\n",
        "\n",
        "x_train, x_test, y_train, y_test = train_test_split(X, y, test_size=0.5, random_state=889, stratify=y)"
      ],
      "execution_count": 0,
      "outputs": []
    },
    {
      "cell_type": "code",
      "metadata": {
        "colab_type": "code",
        "id": "E-l54GwPShgJ",
        "colab": {}
      },
      "source": [
        "#Image Augmentation\n",
        "img_augm = ImageDataGenerator(\n",
        "    width_shift_range=0.1, #horizontal shift\n",
        "    height_shift_range=0.1,#vertical shift\n",
        "    shear_range=0.2,\n",
        "    zoom_range=0.2,\n",
        "    horizontal_flip=True,\n",
        "    data_format=None)\n",
        "\n",
        "img_augm.fit(x_train)"
      ],
      "execution_count": 0,
      "outputs": []
    },
    {
      "cell_type": "code",
      "metadata": {
        "colab_type": "code",
        "id": "cbMsc7ItjPB8",
        "outputId": "f185cabb-aba1-4eff-cc32-deeb427f98a0",
        "colab": {
          "base_uri": "https://localhost:8080/",
          "height": 51
        }
      },
      "source": [
        "#Data normalization\n",
        "x_train = x_train.astype('float32')/255.\n",
        "x_test = x_test.astype('float32')/255.\n",
        "print('x_train shape:', x_train.shape)\n",
        "print('x_test shape:', x_test.shape)"
      ],
      "execution_count": 33,
      "outputs": [
        {
          "output_type": "stream",
          "text": [
            "x_train shape: (30000, 32, 32, 3)\n",
            "x_test shape: (30000, 32, 32, 3)\n"
          ],
          "name": "stdout"
        }
      ]
    },
    {
      "cell_type": "code",
      "metadata": {
        "colab_type": "code",
        "id": "hHRYHC_HjPCD",
        "colab": {}
      },
      "source": [
        "#convert to matrices\n",
        "num_classes = 10\n",
        "y_train = to_categorical(y_train, num_classes)\n",
        "y_test = to_categorical(y_test, num_classes)"
      ],
      "execution_count": 0,
      "outputs": []
    },
    {
      "cell_type": "markdown",
      "metadata": {
        "colab_type": "text",
        "id": "yMrrdh7TPlIW"
      },
      "source": [
        "# Autoencoder"
      ]
    },
    {
      "cell_type": "code",
      "metadata": {
        "colab_type": "code",
        "id": "ND5ge2zCjPBM",
        "colab": {}
      },
      "source": [
        "#Encoder\n",
        "img_input = Input(shape=(32, 32, 3))\n",
        "\n",
        "layer = Conv2D(64, (3, 3), padding='same', activation='relu')(img_input)\n",
        "layer = MaxPooling2D((2, 2), padding='same')(layer)\n",
        "\n",
        "layer = Conv2D(128, (3, 3), padding='same',activation='relu')(layer)\n",
        "encoded = MaxPooling2D((2, 2), padding='same')(layer)\n",
        "\n",
        "#Decoder\n",
        "layer = Conv2D(128, (3, 3), padding='same', activation='relu')(encoded)\n",
        "layer = UpSampling2D((2, 2))(layer)\n",
        "\n",
        "layer = Conv2D(64, (3, 3), padding='same',activation='relu')(layer)\n",
        "layer = UpSampling2D((2, 2))(layer)\n",
        "\n",
        "decoded = Conv2D(3, (3, 3), padding='same',activation='sigmoid')(layer)\n"
      ],
      "execution_count": 0,
      "outputs": []
    },
    {
      "cell_type": "code",
      "metadata": {
        "colab_type": "code",
        "id": "PH--DssIjPBt",
        "outputId": "1add8eaa-af01-4cf8-dabc-8ec9e77cbcc1",
        "scrolled": false,
        "colab": {
          "base_uri": "https://localhost:8080/",
          "height": 493
        }
      },
      "source": [
        "autoencoder = Model(img_input, decoded)\n",
        "autoencoder.compile(optimizer='adadelta', loss='binary_crossentropy')\n",
        "autoencoder.summary()"
      ],
      "execution_count": 36,
      "outputs": [
        {
          "output_type": "stream",
          "text": [
            "Model: \"model_4\"\n",
            "_________________________________________________________________\n",
            "Layer (type)                 Output Shape              Param #   \n",
            "=================================================================\n",
            "input_3 (InputLayer)         (None, 32, 32, 3)         0         \n",
            "_________________________________________________________________\n",
            "conv2d_12 (Conv2D)           (None, 32, 32, 64)        1792      \n",
            "_________________________________________________________________\n",
            "max_pooling2d_6 (MaxPooling2 (None, 16, 16, 64)        0         \n",
            "_________________________________________________________________\n",
            "conv2d_13 (Conv2D)           (None, 16, 16, 128)       73856     \n",
            "_________________________________________________________________\n",
            "max_pooling2d_7 (MaxPooling2 (None, 8, 8, 128)         0         \n",
            "_________________________________________________________________\n",
            "conv2d_14 (Conv2D)           (None, 8, 8, 128)         147584    \n",
            "_________________________________________________________________\n",
            "up_sampling2d_5 (UpSampling2 (None, 16, 16, 128)       0         \n",
            "_________________________________________________________________\n",
            "conv2d_15 (Conv2D)           (None, 16, 16, 64)        73792     \n",
            "_________________________________________________________________\n",
            "up_sampling2d_6 (UpSampling2 (None, 32, 32, 64)        0         \n",
            "_________________________________________________________________\n",
            "conv2d_16 (Conv2D)           (None, 32, 32, 3)         1731      \n",
            "=================================================================\n",
            "Total params: 298,755\n",
            "Trainable params: 298,755\n",
            "Non-trainable params: 0\n",
            "_________________________________________________________________\n"
          ],
          "name": "stdout"
        }
      ]
    },
    {
      "cell_type": "code",
      "metadata": {
        "colab_type": "code",
        "id": "Zs38xj5jjPCL",
        "outputId": "8a01e327-d25b-427e-f745-a1a3184167b1",
        "scrolled": true,
        "colab": {
          "base_uri": "https://localhost:8080/",
          "height": 1000
        }
      },
      "source": [
        "#Autoencoder training\n",
        "autoencoder.fit_generator(\n",
        "    img_augm.flow(x_train, x_train, batch_size=64),\n",
        "    epochs=40,\n",
        "    validation_data=(x_test, x_test),\n",
        "    workers=8)"
      ],
      "execution_count": 37,
      "outputs": [
        {
          "output_type": "stream",
          "text": [
            "Epoch 1/40\n",
            "469/469 [==============================] - 23s 49ms/step - loss: 0.6392 - val_loss: 0.5931\n",
            "Epoch 2/40\n",
            "469/469 [==============================] - 22s 48ms/step - loss: 0.6249 - val_loss: 0.5903\n",
            "Epoch 3/40\n",
            "469/469 [==============================] - 22s 47ms/step - loss: 0.6224 - val_loss: 0.5912\n",
            "Epoch 4/40\n",
            "469/469 [==============================] - 22s 46ms/step - loss: 0.6212 - val_loss: 0.5911\n",
            "Epoch 5/40\n",
            "469/469 [==============================] - 23s 48ms/step - loss: 0.6204 - val_loss: 0.5904\n",
            "Epoch 6/40\n",
            "469/469 [==============================] - 22s 47ms/step - loss: 0.6202 - val_loss: 0.5903\n",
            "Epoch 7/40\n",
            "469/469 [==============================] - 22s 48ms/step - loss: 0.6196 - val_loss: 0.5904\n",
            "Epoch 8/40\n",
            "469/469 [==============================] - 22s 46ms/step - loss: 0.6193 - val_loss: 0.5874\n",
            "Epoch 9/40\n",
            "469/469 [==============================] - 22s 46ms/step - loss: 0.6189 - val_loss: 0.5883\n",
            "Epoch 10/40\n",
            "469/469 [==============================] - 22s 48ms/step - loss: 0.6190 - val_loss: 0.5889\n",
            "Epoch 11/40\n",
            "469/469 [==============================] - 23s 48ms/step - loss: 0.6184 - val_loss: 0.5909\n",
            "Epoch 12/40\n",
            "469/469 [==============================] - 22s 48ms/step - loss: 0.6183 - val_loss: 0.5889\n",
            "Epoch 13/40\n",
            "469/469 [==============================] - 22s 48ms/step - loss: 0.6186 - val_loss: 0.5897\n",
            "Epoch 14/40\n",
            "469/469 [==============================] - 22s 48ms/step - loss: 0.6183 - val_loss: 0.5938\n",
            "Epoch 15/40\n",
            "469/469 [==============================] - 22s 47ms/step - loss: 0.6180 - val_loss: 0.5895\n",
            "Epoch 16/40\n",
            "469/469 [==============================] - 22s 48ms/step - loss: 0.6184 - val_loss: 0.5933\n",
            "Epoch 17/40\n",
            "469/469 [==============================] - 22s 46ms/step - loss: 0.6178 - val_loss: 0.5897\n",
            "Epoch 18/40\n",
            "469/469 [==============================] - 22s 48ms/step - loss: 0.6177 - val_loss: 0.5890\n",
            "Epoch 19/40\n",
            "469/469 [==============================] - 22s 48ms/step - loss: 0.6178 - val_loss: 0.5885\n",
            "Epoch 20/40\n",
            "469/469 [==============================] - 23s 48ms/step - loss: 0.6172 - val_loss: 0.5895\n",
            "Epoch 21/40\n",
            "469/469 [==============================] - 22s 48ms/step - loss: 0.6176 - val_loss: 0.5892\n",
            "Epoch 22/40\n",
            "469/469 [==============================] - 22s 47ms/step - loss: 0.6171 - val_loss: 0.5923\n",
            "Epoch 23/40\n",
            "469/469 [==============================] - 22s 48ms/step - loss: 0.6173 - val_loss: 0.5913\n",
            "Epoch 24/40\n",
            "469/469 [==============================] - 23s 48ms/step - loss: 0.6171 - val_loss: 0.5881\n",
            "Epoch 25/40\n",
            "469/469 [==============================] - 23s 48ms/step - loss: 0.6168 - val_loss: 0.5877\n",
            "Epoch 26/40\n",
            "469/469 [==============================] - 22s 48ms/step - loss: 0.6172 - val_loss: 0.5911\n",
            "Epoch 27/40\n",
            "469/469 [==============================] - 23s 48ms/step - loss: 0.6170 - val_loss: 0.5899\n",
            "Epoch 28/40\n",
            "469/469 [==============================] - 22s 47ms/step - loss: 0.6169 - val_loss: 0.5894\n",
            "Epoch 29/40\n",
            "469/469 [==============================] - 22s 48ms/step - loss: 0.6170 - val_loss: 0.5896\n",
            "Epoch 30/40\n",
            "469/469 [==============================] - 22s 47ms/step - loss: 0.6167 - val_loss: 0.5891\n",
            "Epoch 31/40\n",
            "469/469 [==============================] - 22s 47ms/step - loss: 0.6166 - val_loss: 0.5883\n",
            "Epoch 32/40\n",
            "469/469 [==============================] - 22s 48ms/step - loss: 0.6167 - val_loss: 0.5918\n",
            "Epoch 33/40\n",
            "469/469 [==============================] - 22s 47ms/step - loss: 0.6166 - val_loss: 0.5893\n",
            "Epoch 34/40\n",
            "469/469 [==============================] - 23s 48ms/step - loss: 0.6167 - val_loss: 0.5897\n",
            "Epoch 35/40\n",
            "469/469 [==============================] - 22s 48ms/step - loss: 0.6167 - val_loss: 0.5878\n",
            "Epoch 36/40\n",
            "469/469 [==============================] - 22s 48ms/step - loss: 0.6162 - val_loss: 0.5916\n",
            "Epoch 37/40\n",
            "469/469 [==============================] - 22s 48ms/step - loss: 0.6164 - val_loss: 0.5904\n",
            "Epoch 38/40\n",
            "469/469 [==============================] - 22s 48ms/step - loss: 0.6163 - val_loss: 0.5911\n",
            "Epoch 39/40\n",
            "469/469 [==============================] - 23s 49ms/step - loss: 0.6162 - val_loss: 0.5914\n",
            "Epoch 40/40\n",
            "469/469 [==============================] - 23s 48ms/step - loss: 0.6160 - val_loss: 0.5910\n"
          ],
          "name": "stdout"
        },
        {
          "output_type": "execute_result",
          "data": {
            "text/plain": [
              "<keras.callbacks.History at 0x7f1699152eb8>"
            ]
          },
          "metadata": {
            "tags": []
          },
          "execution_count": 37
        }
      ]
    },
    {
      "cell_type": "code",
      "metadata": {
        "colab_type": "code",
        "id": "YrqtBJYyR5FL",
        "colab": {}
      },
      "source": [
        "#Save and Load (if needed)\n",
        "autoencoder.save_weights('autoenc.h5')"
      ],
      "execution_count": 0,
      "outputs": []
    },
    {
      "cell_type": "code",
      "metadata": {
        "colab_type": "code",
        "id": "G4zI8gXBSEAE",
        "colab": {}
      },
      "source": [
        "autoencoder.load_weights('autoenc.h5')"
      ],
      "execution_count": 0,
      "outputs": []
    },
    {
      "cell_type": "code",
      "metadata": {
        "colab_type": "code",
        "id": "82UyESHvw8PQ",
        "outputId": "4798aa4f-11ab-49c3-b403-34a81fadb0b7",
        "colab": {
          "base_uri": "https://localhost:8080/",
          "height": 259
        }
      },
      "source": [
        "#original VS rebuilt images (code from Keras documentation)\n",
        "\n",
        "decoded_imgs = autoencoder.predict(x_test)\n",
        "\n",
        "n = 11\n",
        "plt.figure(figsize=(20, 4))\n",
        "for i in range(1,n):\n",
        "    # display original\n",
        "    ax = plt.subplot(2, n, i)\n",
        "    plt.imshow(x_test[i].reshape(32,32,3))\n",
        "    plt.gray()\n",
        "    ax.get_xaxis().set_visible(False)\n",
        "    ax.get_yaxis().set_visible(False)\n",
        "\n",
        "    # display reconstruction\n",
        "    ax = plt.subplot(2, n, i + n)\n",
        "    plt.imshow(decoded_imgs[i].reshape(32,32,3))\n",
        "    plt.gray()\n",
        "    ax.get_xaxis().set_visible(False)\n",
        "    ax.get_yaxis().set_visible(False)\n",
        "plt.show()"
      ],
      "execution_count": 40,
      "outputs": [
        {
          "output_type": "display_data",
          "data": {
            "image/png": "[encoded data removed]",
            "text/plain": [
              "<Figure size 1440x288 with 20 Axes>"
            ]
          },
          "metadata": {
            "tags": []
          }
        }
      ]
    },
    {
      "cell_type": "markdown",
      "metadata": {
        "colab_type": "text",
        "id": "BizrXCTSPHLu"
      },
      "source": [
        "# Convolutional Neural Network"
      ]
    },
    {
      "cell_type": "code",
      "metadata": {
        "colab_type": "code",
        "id": "PFGeY-3xjPCS",
        "colab": {}
      },
      "source": [
        "layer = Conv2D(64, (3, 3), padding='same', activation='relu')(encoded)\n",
        "layer = MaxPooling2D((2, 2), padding='same')(layer)\n",
        "layer = Dropout(0.15)(layer)\n",
        "\n",
        "#layer = Conv2D(32, (3, 3), padding='same', activation='relu')(layer)\n",
        "#layer = MaxPooling2D((2, 2), padding='same')(layer)\n",
        "\n",
        "layer = Flatten()(layer)\n",
        "\n",
        "layer = Dense(256, activation='relu')(layer)\n",
        "layer = Dropout(0.05)(layer)\n",
        "\n",
        "cnn_output = Dense(10, activation='softmax')(layer)"
      ],
      "execution_count": 0,
      "outputs": []
    },
    {
      "cell_type": "code",
      "metadata": {
        "id": "ka9WMeGD8xwh",
        "colab_type": "code",
        "colab": {}
      },
      "source": [
        "classifier = Model(img_input, cnn_output)"
      ],
      "execution_count": 0,
      "outputs": []
    },
    {
      "cell_type": "code",
      "metadata": {
        "id": "X_f72l1j8xwi",
        "colab_type": "code",
        "colab": {}
      },
      "source": [
        "#Freeze the Encoder layers (no weights update possible)\n",
        "for layer in classifier.layers[0:5]:\n",
        "    layer.trainable = False"
      ],
      "execution_count": 0,
      "outputs": []
    },
    {
      "cell_type": "code",
      "metadata": {
        "colab_type": "code",
        "id": "bDvudVfVjPCm",
        "outputId": "16a412ae-74ec-4777-ccf9-b4d0595a947d",
        "colab": {
          "base_uri": "https://localhost:8080/",
          "height": 561
        }
      },
      "source": [
        "classifier.compile(optimizer='adadelta',loss='categorical_crossentropy',metrics=['accuracy'])\n",
        "classifier.summary()"
      ],
      "execution_count": 44,
      "outputs": [
        {
          "output_type": "stream",
          "text": [
            "Model: \"model_5\"\n",
            "_________________________________________________________________\n",
            "Layer (type)                 Output Shape              Param #   \n",
            "=================================================================\n",
            "input_3 (InputLayer)         (None, 32, 32, 3)         0         \n",
            "_________________________________________________________________\n",
            "conv2d_12 (Conv2D)           (None, 32, 32, 64)        1792      \n",
            "_________________________________________________________________\n",
            "max_pooling2d_6 (MaxPooling2 (None, 16, 16, 64)        0         \n",
            "_________________________________________________________________\n",
            "conv2d_13 (Conv2D)           (None, 16, 16, 128)       73856     \n",
            "_________________________________________________________________\n",
            "max_pooling2d_7 (MaxPooling2 (None, 8, 8, 128)         0         \n",
            "_________________________________________________________________\n",
            "conv2d_17 (Conv2D)           (None, 8, 8, 64)          73792     \n",
            "_________________________________________________________________\n",
            "max_pooling2d_8 (MaxPooling2 (None, 4, 4, 64)          0         \n",
            "_________________________________________________________________\n",
            "dropout_3 (Dropout)          (None, 4, 4, 64)          0         \n",
            "_________________________________________________________________\n",
            "flatten_2 (Flatten)          (None, 1024)              0         \n",
            "_________________________________________________________________\n",
            "dense_3 (Dense)              (None, 256)               262400    \n",
            "_________________________________________________________________\n",
            "dropout_4 (Dropout)          (None, 256)               0         \n",
            "_________________________________________________________________\n",
            "dense_4 (Dense)              (None, 10)                2570      \n",
            "=================================================================\n",
            "Total params: 414,410\n",
            "Trainable params: 338,762\n",
            "Non-trainable params: 75,648\n",
            "_________________________________________________________________\n"
          ],
          "name": "stdout"
        }
      ]
    },
    {
      "cell_type": "code",
      "metadata": {
        "colab_type": "code",
        "id": "VqdCcA8HjPCt",
        "outputId": "44f4c475-1abc-4f5c-cc3e-69835e2f582e",
        "colab": {
          "base_uri": "https://localhost:8080/",
          "height": 1000
        }
      },
      "source": [
        "#Autoencoder_CNN Training\n",
        "\n",
        "early_stop = EarlyStopping(monitor='val_loss', mode='min', patience=20) #stop training if no progress\n",
        "checkpoint = ModelCheckpoint('autoenc_cnn.h5', monitor='val_loss', mode='min', save_best_only=True) #save lowest loss\n",
        "\n",
        "history = classifier.fit_generator(\n",
        "    img_augm.flow(x_train, y_train, batch_size=64),\n",
        "    epochs=50,\n",
        "    class_weight={0:1, 1:1, 2:1.9, 3:2.5, 4:1.8, 5:2.5, 6:1, 7:1, 8:1, 9:1}, #gives importance to some classes\n",
        "    validation_data=(x_test, y_test),\n",
        "    workers=8,\n",
        "    callbacks=[early_stop, checkpoint]\n",
        "    )"
      ],
      "execution_count": 45,
      "outputs": [
        {
          "output_type": "stream",
          "text": [
            "Epoch 1/50\n",
            "469/469 [==============================] - 22s 46ms/step - loss: 2.4028 - acc: 0.3858 - val_loss: 1.3989 - val_acc: 0.4884\n",
            "Epoch 2/50\n",
            "469/469 [==============================] - 21s 46ms/step - loss: 2.0401 - acc: 0.4975 - val_loss: 1.2139 - val_acc: 0.5687\n",
            "Epoch 3/50\n",
            "469/469 [==============================] - 21s 45ms/step - loss: 1.9029 - acc: 0.5353 - val_loss: 1.2173 - val_acc: 0.5612\n",
            "Epoch 4/50\n",
            "469/469 [==============================] - 21s 44ms/step - loss: 1.8034 - acc: 0.5620 - val_loss: 1.0780 - val_acc: 0.6177\n",
            "Epoch 5/50\n",
            "469/469 [==============================] - 21s 44ms/step - loss: 1.7417 - acc: 0.5802 - val_loss: 1.0739 - val_acc: 0.6170\n",
            "Epoch 6/50\n",
            "469/469 [==============================] - 21s 44ms/step - loss: 1.6725 - acc: 0.5964 - val_loss: 1.0252 - val_acc: 0.6383\n",
            "Epoch 7/50\n",
            "469/469 [==============================] - 20s 43ms/step - loss: 1.6344 - acc: 0.6071 - val_loss: 0.9970 - val_acc: 0.6488\n",
            "Epoch 8/50\n",
            "469/469 [==============================] - 20s 43ms/step - loss: 1.5874 - acc: 0.6183 - val_loss: 0.9735 - val_acc: 0.6623\n",
            "Epoch 9/50\n",
            "469/469 [==============================] - 20s 43ms/step - loss: 1.5551 - acc: 0.6279 - val_loss: 0.9870 - val_acc: 0.6579\n",
            "Epoch 10/50\n",
            "469/469 [==============================] - 20s 43ms/step - loss: 1.5252 - acc: 0.6365 - val_loss: 0.9447 - val_acc: 0.6672\n",
            "Epoch 11/50\n",
            "469/469 [==============================] - 20s 43ms/step - loss: 1.4916 - acc: 0.6439 - val_loss: 0.9454 - val_acc: 0.6714\n",
            "Epoch 12/50\n",
            "469/469 [==============================] - 20s 43ms/step - loss: 1.4622 - acc: 0.6525 - val_loss: 0.9825 - val_acc: 0.6571\n",
            "Epoch 13/50\n",
            "469/469 [==============================] - 20s 43ms/step - loss: 1.4474 - acc: 0.6557 - val_loss: 0.9116 - val_acc: 0.6819\n",
            "Epoch 14/50\n",
            "469/469 [==============================] - 21s 45ms/step - loss: 1.4103 - acc: 0.6658 - val_loss: 0.9306 - val_acc: 0.6749\n",
            "Epoch 15/50\n",
            "469/469 [==============================] - 20s 42ms/step - loss: 1.3837 - acc: 0.6711 - val_loss: 0.9249 - val_acc: 0.6831\n",
            "Epoch 16/50\n",
            "469/469 [==============================] - 20s 43ms/step - loss: 1.3729 - acc: 0.6751 - val_loss: 0.8989 - val_acc: 0.6875\n",
            "Epoch 17/50\n",
            "469/469 [==============================] - 21s 44ms/step - loss: 1.3561 - acc: 0.6773 - val_loss: 0.9107 - val_acc: 0.6838\n",
            "Epoch 18/50\n",
            "469/469 [==============================] - 20s 43ms/step - loss: 1.3323 - acc: 0.6871 - val_loss: 0.8912 - val_acc: 0.6913\n",
            "Epoch 19/50\n",
            "469/469 [==============================] - 20s 44ms/step - loss: 1.3140 - acc: 0.6866 - val_loss: 0.9239 - val_acc: 0.6845\n",
            "Epoch 20/50\n",
            "469/469 [==============================] - 21s 44ms/step - loss: 1.3093 - acc: 0.6924 - val_loss: 0.9023 - val_acc: 0.6961\n",
            "Epoch 21/50\n",
            "469/469 [==============================] - 20s 43ms/step - loss: 1.2878 - acc: 0.6964 - val_loss: 0.8850 - val_acc: 0.6934\n",
            "Epoch 22/50\n",
            "469/469 [==============================] - 20s 43ms/step - loss: 1.2729 - acc: 0.6997 - val_loss: 0.8588 - val_acc: 0.7001\n",
            "Epoch 23/50\n",
            "469/469 [==============================] - 20s 44ms/step - loss: 1.2602 - acc: 0.7012 - val_loss: 0.8581 - val_acc: 0.7021\n",
            "Epoch 24/50\n",
            "469/469 [==============================] - 20s 43ms/step - loss: 1.2517 - acc: 0.7045 - val_loss: 0.8641 - val_acc: 0.7058\n",
            "Epoch 25/50\n",
            "469/469 [==============================] - 20s 43ms/step - loss: 1.2366 - acc: 0.7063 - val_loss: 0.8565 - val_acc: 0.7066\n",
            "Epoch 26/50\n",
            "469/469 [==============================] - 20s 43ms/step - loss: 1.2309 - acc: 0.7110 - val_loss: 0.8688 - val_acc: 0.7050\n",
            "Epoch 27/50\n",
            "469/469 [==============================] - 20s 43ms/step - loss: 1.2129 - acc: 0.7121 - val_loss: 0.8425 - val_acc: 0.7101\n",
            "Epoch 28/50\n",
            "469/469 [==============================] - 20s 42ms/step - loss: 1.1972 - acc: 0.7146 - val_loss: 0.8899 - val_acc: 0.6997\n",
            "Epoch 29/50\n",
            "469/469 [==============================] - 21s 45ms/step - loss: 1.1918 - acc: 0.7164 - val_loss: 0.8186 - val_acc: 0.7203\n",
            "Epoch 30/50\n",
            "469/469 [==============================] - 20s 42ms/step - loss: 1.1799 - acc: 0.7233 - val_loss: 0.8887 - val_acc: 0.7065\n",
            "Epoch 31/50\n",
            "469/469 [==============================] - 20s 43ms/step - loss: 1.1655 - acc: 0.7262 - val_loss: 0.8549 - val_acc: 0.7128\n",
            "Epoch 32/50\n",
            "469/469 [==============================] - 20s 43ms/step - loss: 1.1505 - acc: 0.7260 - val_loss: 0.8592 - val_acc: 0.7079\n",
            "Epoch 33/50\n",
            "469/469 [==============================] - 20s 42ms/step - loss: 1.1522 - acc: 0.7266 - val_loss: 0.8466 - val_acc: 0.7129\n",
            "Epoch 34/50\n",
            "469/469 [==============================] - 20s 42ms/step - loss: 1.1397 - acc: 0.7336 - val_loss: 0.8429 - val_acc: 0.7163\n",
            "Epoch 35/50\n",
            "469/469 [==============================] - 20s 43ms/step - loss: 1.1279 - acc: 0.7320 - val_loss: 0.9034 - val_acc: 0.7045\n",
            "Epoch 36/50\n",
            "469/469 [==============================] - 20s 42ms/step - loss: 1.1206 - acc: 0.7369 - val_loss: 0.8553 - val_acc: 0.7123\n",
            "Epoch 37/50\n",
            "469/469 [==============================] - 20s 43ms/step - loss: 1.1082 - acc: 0.7376 - val_loss: 0.8683 - val_acc: 0.7107\n",
            "Epoch 38/50\n",
            "469/469 [==============================] - 20s 44ms/step - loss: 1.1009 - acc: 0.7393 - val_loss: 0.8853 - val_acc: 0.7073\n",
            "Epoch 39/50\n",
            "469/469 [==============================] - 20s 42ms/step - loss: 1.0849 - acc: 0.7453 - val_loss: 0.8472 - val_acc: 0.7179\n",
            "Epoch 40/50\n",
            "469/469 [==============================] - 20s 42ms/step - loss: 1.0983 - acc: 0.7415 - val_loss: 0.8728 - val_acc: 0.7143\n",
            "Epoch 41/50\n",
            "469/469 [==============================] - 20s 43ms/step - loss: 1.0758 - acc: 0.7450 - val_loss: 0.8321 - val_acc: 0.7222\n",
            "Epoch 42/50\n",
            "469/469 [==============================] - 20s 42ms/step - loss: 1.0795 - acc: 0.7448 - val_loss: 0.8633 - val_acc: 0.7144\n",
            "Epoch 43/50\n",
            "469/469 [==============================] - 20s 43ms/step - loss: 1.0654 - acc: 0.7472 - val_loss: 0.8694 - val_acc: 0.7146\n",
            "Epoch 44/50\n",
            "469/469 [==============================] - 20s 44ms/step - loss: 1.0617 - acc: 0.7488 - val_loss: 0.9648 - val_acc: 0.6970\n",
            "Epoch 45/50\n",
            "469/469 [==============================] - 20s 43ms/step - loss: 1.0717 - acc: 0.7501 - val_loss: 0.8363 - val_acc: 0.7201\n",
            "Epoch 46/50\n",
            "469/469 [==============================] - 20s 42ms/step - loss: 1.0462 - acc: 0.7551 - val_loss: 0.8313 - val_acc: 0.7244\n",
            "Epoch 47/50\n",
            "469/469 [==============================] - 20s 43ms/step - loss: 1.0345 - acc: 0.7566 - val_loss: 0.9003 - val_acc: 0.7084\n",
            "Epoch 48/50\n",
            "469/469 [==============================] - 20s 42ms/step - loss: 1.0434 - acc: 0.7507 - val_loss: 0.8859 - val_acc: 0.7069\n",
            "Epoch 49/50\n",
            "469/469 [==============================] - 20s 42ms/step - loss: 1.0304 - acc: 0.7549 - val_loss: 0.8547 - val_acc: 0.7200\n"
          ],
          "name": "stdout"
        }
      ]
    },
    {
      "cell_type": "markdown",
      "metadata": {
        "colab_type": "text",
        "id": "K7I7o7JiPHML"
      },
      "source": [
        "# Results & Metrics"
      ]
    },
    {
      "cell_type": "code",
      "metadata": {
        "colab_type": "code",
        "id": "-vCzNtTfe083",
        "outputId": "0e43ec09-4a9e-46bb-f530-9617004fb7b6",
        "colab": {
          "base_uri": "https://localhost:8080/",
          "height": 573
        }
      },
      "source": [
        "#Accuracy and Loss (code from Keras documentation)\n",
        "\n",
        "# Plot training & validation accuracy values\n",
        "plt.plot(history.history['acc'])\n",
        "plt.plot(history.history['val_acc'])\n",
        "plt.title('Model accuracy')\n",
        "plt.ylabel('Accuracy')\n",
        "plt.xlabel('Epoch')\n",
        "plt.legend(['Train', 'Test'], loc='upper left')\n",
        "plt.show()\n",
        "\n",
        "# Plot training & validation loss values\n",
        "plt.plot(history.history['loss'])\n",
        "plt.plot(history.history['val_loss'])\n",
        "plt.title('Model loss')\n",
        "plt.ylabel('Loss')\n",
        "plt.xlabel('Epoch')\n",
        "plt.legend(['Train', 'Test'], loc='upper left')\n",
        "plt.show()"
      ],
      "execution_count": 46,
      "outputs": [
        {
          "output_type": "display_data",
          "data": {
            "image/png": "[encoded data removed]",
            "text/plain": [
              "<Figure size 432x288 with 1 Axes>"
            ]
          },
          "metadata": {
            "tags": []
          }
        },
        {
          "output_type": "display_data",
          "data": {
            "image/png": "[encoded data removed]",
            "text/plain": [
              "<Figure size 432x288 with 1 Axes>"
            ]
          },
          "metadata": {
            "tags": []
          }
        }
      ]
    },
    {
      "cell_type": "code",
      "metadata": {
        "colab_type": "code",
        "id": "mcii7DAA4hDS",
        "colab": {}
      },
      "source": [
        "#load best classifier\n",
        "classifier.load_weights('autoenc_cnn.h5')"
      ],
      "execution_count": 0,
      "outputs": []
    },
    {
      "cell_type": "code",
      "metadata": {
        "colab_type": "code",
        "id": "ZoHqbNmFjPC0",
        "outputId": "11060c1e-f02c-4da2-89c0-13702fc67f4f",
        "colab": {
          "base_uri": "https://localhost:8080/",
          "height": 34
        }
      },
      "source": [
        "#score (loss and accuracy)\n",
        "classifier.evaluate(x_test, y_test, verbose=0)"
      ],
      "execution_count": 48,
      "outputs": [
        {
          "output_type": "execute_result",
          "data": {
            "text/plain": [
              "[0.8186194316864014, 0.7202666666666667]"
            ]
          },
          "metadata": {
            "tags": []
          },
          "execution_count": 48
        }
      ]
    },
    {
      "cell_type": "code",
      "metadata": {
        "colab_type": "code",
        "id": "IErjYKh8jPC7",
        "colab": {}
      },
      "source": [
        "pred = classifier.predict(x_test)\n",
        "\n",
        "y_true = np.argmax(y_test, axis=1)\n",
        "prediction = np.argmax(pred, axis=1)"
      ],
      "execution_count": 0,
      "outputs": []
    },
    {
      "cell_type": "code",
      "metadata": {
        "colab_type": "code",
        "id": "6o5ng9ucjPDB",
        "outputId": "411c4439-4d4d-409a-dbc9-2edfd9c63062",
        "colab": {
          "base_uri": "https://localhost:8080/",
          "height": 187
        }
      },
      "source": [
        "confusion_matrix(y_true, prediction)"
      ],
      "execution_count": 50,
      "outputs": [
        {
          "output_type": "execute_result",
          "data": {
            "text/plain": [
              "array([[2020,   86,  234,   87,   60,   47,   36,   49,  178,  203],\n",
              "       [  37, 2417,   13,   21,    7,    5,   22,    8,   50,  420],\n",
              "       [  94,   22, 1937,  171,  273,  157,  202,   64,   38,   42],\n",
              "       [  27,   37,  197, 1689,  181,  444,  183,   96,   43,  103],\n",
              "       [  46,   12,  202,  154, 2093,   67,  165,  200,   24,   37],\n",
              "       [  11,   21,  147,  464,  169, 1857,   86,  157,   23,   65],\n",
              "       [  11,   28,  136,  182,  123,   53, 2384,   18,   14,   51],\n",
              "       [  27,   20,  104,  123,  222,  136,   21, 2232,   14,  101],\n",
              "       [ 153,  116,   41,   48,   20,   16,   11,    8, 2414,  173],\n",
              "       [  40,  223,   19,   35,    6,   10,   34,   24,   44, 2565]])"
            ]
          },
          "metadata": {
            "tags": []
          },
          "execution_count": 50
        }
      ]
    },
    {
      "cell_type": "code",
      "metadata": {
        "colab_type": "code",
        "id": "OJcbJbv7lQmB",
        "outputId": "1fd1e5c6-de97-45e7-e2f7-6ecb16579cfc",
        "scrolled": true,
        "colab": {
          "base_uri": "https://localhost:8080/",
          "height": 306
        }
      },
      "source": [
        "#Metrics for each class\n",
        "print(classification_report(y_true, prediction, [0,1,2,3,4,5,6,7,8,9]))"
      ],
      "execution_count": 51,
      "outputs": [
        {
          "output_type": "stream",
          "text": [
            "              precision    recall  f1-score   support\n",
            "\n",
            "           0       0.82      0.67      0.74      3000\n",
            "           1       0.81      0.81      0.81      3000\n",
            "           2       0.64      0.65      0.64      3000\n",
            "           3       0.57      0.56      0.57      3000\n",
            "           4       0.66      0.70      0.68      3000\n",
            "           5       0.67      0.62      0.64      3000\n",
            "           6       0.76      0.79      0.78      3000\n",
            "           7       0.78      0.74      0.76      3000\n",
            "           8       0.85      0.80      0.83      3000\n",
            "           9       0.68      0.85      0.76      3000\n",
            "\n",
            "    accuracy                           0.72     30000\n",
            "   macro avg       0.72      0.72      0.72     30000\n",
            "weighted avg       0.72      0.72      0.72     30000\n",
            "\n"
          ],
          "name": "stdout"
        }
      ]
    },
    {
      "cell_type": "code",
      "metadata": {
        "id": "CEaRq05M813e",
        "colab_type": "code",
        "colab": {}
      },
      "source": [
        ""
      ],
      "execution_count": 0,
      "outputs": []
    }
  ]
}